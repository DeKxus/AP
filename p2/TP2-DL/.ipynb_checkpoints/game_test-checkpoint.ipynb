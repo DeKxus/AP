{
 "cells": [
  {
   "cell_type": "code",
   "execution_count": 36,
   "id": "e226d371-ae10-45cf-a733-5545d0e7624b",
   "metadata": {},
   "outputs": [],
   "source": [
    " %matplotlib inline\n",
    "import matplotlib.pyplot as plt\n",
    "from matplotlib.animation import FuncAnimation\n",
    "from snake_game import SnakeGame\n",
    "from IPython.display import Image, display\n",
    "import time"
   ]
  },
  {
   "cell_type": "code",
   "execution_count": 66,
   "id": "b10853eb-0e99-4d7a-8e3c-11a7868a8e01",
   "metadata": {},
   "outputs": [],
   "source": [
    "def plot_board(file_name,board,text=None):\n",
    "    plt.figure(figsize=(10,10))\n",
    "    plt.imshow(board)\n",
    "    plt.axis('off')\n",
    "    if text is not None:\n",
    "        plt.gca().text(3, 3, text, fontsize=45,color = 'yellow')\n",
    "    plt.savefig(file_name,bbox_inches='tight')\n",
    "    plt.close()\n",
    "    \n",
    "def snake_demo(actions):\n",
    "    game = SnakeGame(30,30,border=1)\n",
    "    board,reward,done,info = game.reset()    \n",
    "    action_name = {-1:'Turn left',0:'Straight ahead',1:'Turn right'}    \n",
    "    plot_board('0.png',board,'Start')\n",
    "    for frame,action in enumerate(actions):\n",
    "        board,reward,done,info = game.step(action)\n",
    "        plot_board(f'{frame+1}.png',board,action_name[action])"
   ]
  },
  {
   "cell_type": "code",
   "execution_count": 67,
   "id": "3c1828f1-094a-41a3-9107-258dea70ec95",
   "metadata": {},
   "outputs": [],
   "source": [
    "snake_demo([0,1,0,-1,-1])"
   ]
  },
  {
   "cell_type": "code",
   "execution_count": 69,
   "id": "cf5b24f1-2269-4a1c-abee-901095d095f0",
   "metadata": {},
   "outputs": [],
   "source": [
    "def snake_heuristic(steps = 10):\n",
    "    actions = [] \n",
    "    game = SnakeGame(30,30,border=1)\n",
    "    board,reward,done,info = game.reset()\n",
    "    action_name = {-1:'Turn left',0:'Straight ahead',1:'Turn right'}\n",
    "    plot_board('0.png',board,'Start')\n",
    "    for step in range(steps):\n",
    "\n",
    "        food_positions = game.get_food_positions()\n",
    "        snake_positions, direction = game.get_snake_position_direction()\n",
    "        head_y, head_x = snake_positions[0]\n",
    "        \n",
    "        # Determine the closest food\n",
    "        closest_food = min(food_positions, key=lambda food: abs(food[0] - head_y) + abs(food[1] - head_x))\n",
    "        food_y, food_x = closest_food\n",
    "\n",
    "        # Determine action to move towards the closest food\n",
    "        if direction == 0:  # Up\n",
    "            if food_x < head_x:\n",
    "                action = -1  # Turn left\n",
    "            elif food_x > head_x:\n",
    "                action = 1   # Turn right\n",
    "            else:\n",
    "                action = 0   # Straight ahead\n",
    "        elif direction == 1:  # Right\n",
    "            if food_y < head_y:\n",
    "                action = -1  # Turn left\n",
    "            elif food_y > head_y:\n",
    "                action = 1   # Turn right\n",
    "            else:\n",
    "                action = 0   # Straight ahead\n",
    "        elif direction == 2:  # Down\n",
    "            if food_x < head_x:\n",
    "                action = 1   # Turn right\n",
    "            elif food_x > head_x:\n",
    "                action = -1  # Turn left\n",
    "            else:\n",
    "                action = 0   # Stradef snake_heuristic(steps = 10):\n",
    "    actions = [] \n",
    "    game = SnakeGame(30,30,border=1)\n",
    "    board,reward,done,info = game.reset()\n",
    "    action_name = {-1:'Turn left',0:'Straight ahead',1:'Turn right'}\n",
    "    plot_board('0.png',board,'Start')\n",
    "    for step in range(steps):\n",
    "\n",
    "        food_positions = game.get_food_positions()\n",
    "        snake_positions, direction = game.get_snake_position_direction()\n",
    "        head_y, head_x = snake_positions[0]\n",
    "        \n",
    "        # Determine the closest food\n",
    "        closest_food = min(food_positions, key=lambda food: abs(food[0] - head_y) + abs(food[1] - head_x))\n",
    "        food_y, food_x = closest_food\n",
    "\n",
    "        # Determine action to move towards the closest food\n",
    "        if direction == 0:  # Up\n",
    "            if food_x < head_x:\n",
    "                action = -1  # Turn left\n",
    "            elif food_x > head_x:\n",
    "                action = 1   # Turn right\n",
    "            else:\n",
    "                action = 0   # Straight ahead\n",
    "        elif direction == 1:  # Right\n",
    "            if food_y < head_y:\n",
    "                action = -1  # Turn left\n",
    "            elif food_y > head_y:\n",
    "                action = 1   # Turn right\n",
    "            else:\n",
    "                action = 0   # Straight ahead\n",
    "        elif direction == 2:  # Down\n",
    "            if food_x < head_x:\n",
    "                action = 1   # Turn right\n",
    "            elif food_x > head_x:\n",
    "                action = -1  # Turn left\n",
    "            else:\n",
    "                action = 0   # Straight ahead\n",
    "        elif direction == 3:  # Left\n",
    "            if food_y < head_y:\n",
    "                action = 1   # Turn right\n",
    "            elif food_y > head_y:\n",
    "                action = -1  # Turn left\n",
    "            else:\n",
    "                action = 0   # Straight ahead\n",
    "        \n",
    "        # Check if the action leads to collision\n",
    "        if game.check_collisions_heuristic(action):\n",
    "            #if action choosen collides choose a different one\n",
    "            for a in action_name:\n",
    "                if a is not action and game.check_collisions_heuristic(a):\n",
    "                    action = a\n",
    "                    break\n",
    "\n",
    "        board, reward, done, info = game.step(action)\n",
    "        plot_board(f'{step+1}.png', board, action_name[action])\n",
    "        actions.append(action)\n",
    "        \n",
    "        if done:\n",
    "            break\n",
    "\n",
    "    return actions"
   ]
  },
  {
   "cell_type": "code",
   "execution_count": 68,
   "id": "a93549b7-ebfd-437f-816f-5d1a51c445ce",
   "metadata": {},
   "outputs": [
    {
     "ename": "AttributeError",
     "evalue": "'SnakeGame' object has no attribute 'get_food_positions'",
     "output_type": "error",
     "traceback": [
      "\u001b[1;31m---------------------------------------------------------------------------\u001b[0m",
      "\u001b[1;31mAttributeError\u001b[0m                            Traceback (most recent call last)",
      "Cell \u001b[1;32mIn[68], line 1\u001b[0m\n\u001b[1;32m----> 1\u001b[0m actions \u001b[38;5;241m=\u001b[39m \u001b[43msnake_heuristic\u001b[49m\u001b[43m(\u001b[49m\u001b[43msteps\u001b[49m\u001b[43m \u001b[49m\u001b[38;5;241;43m=\u001b[39;49m\u001b[43m \u001b[49m\u001b[38;5;241;43m10\u001b[39;49m\u001b[43m)\u001b[49m\n",
      "Cell \u001b[1;32mIn[8], line 9\u001b[0m, in \u001b[0;36msnake_heuristic\u001b[1;34m(steps)\u001b[0m\n\u001b[0;32m      6\u001b[0m plot_board(\u001b[38;5;124m'\u001b[39m\u001b[38;5;124m0.png\u001b[39m\u001b[38;5;124m'\u001b[39m,board,\u001b[38;5;124m'\u001b[39m\u001b[38;5;124mStart\u001b[39m\u001b[38;5;124m'\u001b[39m)\n\u001b[0;32m      7\u001b[0m \u001b[38;5;28;01mfor\u001b[39;00m step \u001b[38;5;129;01min\u001b[39;00m \u001b[38;5;28mrange\u001b[39m(steps):\n\u001b[1;32m----> 9\u001b[0m     food_positions \u001b[38;5;241m=\u001b[39m \u001b[43mgame\u001b[49m\u001b[38;5;241;43m.\u001b[39;49m\u001b[43mget_food_positions\u001b[49m()\n\u001b[0;32m     10\u001b[0m     snake_positions, direction \u001b[38;5;241m=\u001b[39m game\u001b[38;5;241m.\u001b[39mget_snake_position_direction()\n\u001b[0;32m     11\u001b[0m     head_y, head_x \u001b[38;5;241m=\u001b[39m snake_positions[\u001b[38;5;241m0\u001b[39m]\n",
      "\u001b[1;31mAttributeError\u001b[0m: 'SnakeGame' object has no attribute 'get_food_positions'"
     ]
    }
   ],
   "source": [
    "actions = snake_heuristic(steps = 10)"
   ]
  },
  {
   "cell_type": "code",
   "execution_count": null,
   "id": "0309b9df-7de5-4060-b39a-3c1059f4a276",
   "metadata": {},
   "outputs": [],
   "source": [
    "print(actions)"
   ]
  }
 ],
 "metadata": {
  "kernelspec": {
   "display_name": "Python 3 (ipykernel)",
   "language": "python",
   "name": "python3"
  },
  "language_info": {
   "codemirror_mode": {
    "name": "ipython",
    "version": 3
   },
   "file_extension": ".py",
   "mimetype": "text/x-python",
   "name": "python",
   "nbconvert_exporter": "python",
   "pygments_lexer": "ipython3",
   "version": "3.10.4"
  }
 },
 "nbformat": 4,
 "nbformat_minor": 5
}
